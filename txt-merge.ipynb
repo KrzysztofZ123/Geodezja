{
 "cells": [
  {
   "cell_type": "markdown",
   "id": "86ee591a-44fe-486e-8d0e-c2a0f8ca22b7",
   "metadata": {},
   "source": [
    "Program do łączenia kilku plików tekstowych w jeden"
   ]
  },
  {
   "cell_type": "code",
   "execution_count": 1,
   "id": "addeae64-6439-4125-aa93-1e12604bec89",
   "metadata": {
    "tags": []
   },
   "outputs": [],
   "source": [
    "# lista z nazwami plików do wczytania\n",
    "file_list = ['not1.txt', 'not2.txt', 'not3.txt']"
   ]
  },
  {
   "cell_type": "code",
   "execution_count": 4,
   "id": "58471d3e-d08a-470f-875c-7c55eed735f2",
   "metadata": {},
   "outputs": [],
   "source": [
    "# utworzenie zbiorczego pliku tekstowego\n",
    "with open('not_zbiorczy.txt', 'w') as outfile:\n",
    "    for file in file_list:\n",
    "        #otwieranie plików z listy po kolei i dodawanie ich do pliku wyjściowego\n",
    "        with open(file) as infile:\n",
    "            outfile.write(infile.read())\n",
    "        outfile.write('\\n')"
   ]
  }
 ],
 "metadata": {
  "kernelspec": {
   "display_name": "Python 3 (ipykernel)",
   "language": "python",
   "name": "python3"
  },
  "language_info": {
   "codemirror_mode": {
    "name": "ipython",
    "version": 3
   },
   "file_extension": ".py",
   "mimetype": "text/x-python",
   "name": "python",
   "nbconvert_exporter": "python",
   "pygments_lexer": "ipython3",
   "version": "3.9.12"
  }
 },
 "nbformat": 4,
 "nbformat_minor": 5
}
