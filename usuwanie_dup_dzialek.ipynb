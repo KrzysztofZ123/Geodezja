{
 "cells": [
  {
   "cell_type": "markdown",
   "id": "f34a8667-71c0-416c-b144-4ee7b965fb9a",
   "metadata": {},
   "source": [
    "## Program porównuje 2 listy z plików i tworzy listę wynikową z unikalnymi wartościami 1 listy"
   ]
  },
  {
   "cell_type": "code",
   "execution_count": 1,
   "id": "c02a5099-b5e2-4c0b-8ccc-2ec5d37dfb31",
   "metadata": {},
   "outputs": [
    {
     "data": {
      "text/plain": [
       "['3-1/1',\n",
       " '3-104/1',\n",
       " '3-109',\n",
       " '3-197/1',\n",
       " '3-223',\n",
       " '3-53',\n",
       " '4-1',\n",
       " '4-101',\n",
       " '4-111',\n",
       " '4-66',\n",
       " '4-67',\n",
       " '4-68',\n",
       " '4-69',\n",
       " '4-70',\n",
       " '4-71',\n",
       " '4-85',\n",
       " '19-1001',\n",
       " '19-731',\n",
       " '19-799/1',\n",
       " '19-800',\n",
       " '19-803',\n",
       " '19-804',\n",
       " '19-807',\n",
       " '19-808',\n",
       " '19-811',\n",
       " '19-812',\n",
       " '19-815',\n",
       " '19-816',\n",
       " '19-820',\n",
       " '19-821',\n",
       " '19-825',\n",
       " '19-826',\n",
       " '19-829',\n",
       " '19-830',\n",
       " '19-834',\n",
       " '19-837',\n",
       " '19-838',\n",
       " '19-841',\n",
       " '19-842',\n",
       " '19-846/1',\n",
       " '19-850/1',\n",
       " '19-850/2',\n",
       " '19-853',\n",
       " '19-857/1',\n",
       " '19-861',\n",
       " '19-862',\n",
       " '19-865',\n",
       " '19-866/1',\n",
       " '19-871',\n",
       " '19-872/1',\n",
       " '19-873/2',\n",
       " '19-874',\n",
       " '19-875/1',\n",
       " '19-875/2',\n",
       " '19-876',\n",
       " '19-883/1',\n",
       " '21-521',\n",
       " '21-522',\n",
       " '21-589',\n",
       " '26-1873',\n",
       " '26-1874',\n",
       " '26-1875',\n",
       " '26-1876',\n",
       " '26-1877',\n",
       " '26-1879',\n",
       " '26-1880',\n",
       " '26-1881',\n",
       " '4-65',\n",
       " '19-870',\n",
       " '3-229',\n",
       " '21-335',\n",
       " '3-185/1',\n",
       " '3-219',\n",
       " '19-407/1',\n",
       " '4-2',\n",
       " '4-52',\n",
       " '4-53',\n",
       " '4-112',\n",
       " '3-214/2']"
      ]
     },
     "execution_count": 1,
     "metadata": {},
     "output_type": "execute_result"
    }
   ],
   "source": [
    "# wczytanie pliku ze wszystkimi działkami do listy\n",
    "cale = open('Nr działek Kosów cale.txt', 'r')\n",
    "czytanie_cale = cale.read()\n",
    "lista_cale = czytanie_cale.split('\\n')\n",
    "lista_cale"
   ]
  },
  {
   "cell_type": "code",
   "execution_count": 2,
   "id": "e1c64510-7af6-4b23-bc69-e3cb04d30dac",
   "metadata": {},
   "outputs": [
    {
     "data": {
      "text/plain": [
       "['3-1/1',\n",
       " '3-104/1',\n",
       " '3-109',\n",
       " '3-197/1',\n",
       " '3-223',\n",
       " '3-53',\n",
       " '4-1',\n",
       " '4-101',\n",
       " '4-111',\n",
       " '4-66',\n",
       " '4-67',\n",
       " '4-68',\n",
       " '4-69',\n",
       " '4-70',\n",
       " '4-71',\n",
       " '4-85',\n",
       " '19-1001',\n",
       " '19-731',\n",
       " '19-799/1',\n",
       " '19-800',\n",
       " '19-803',\n",
       " '19-804',\n",
       " '19-807',\n",
       " '19-808',\n",
       " '19-811',\n",
       " '19-853',\n",
       " '19-857/1',\n",
       " '19-861',\n",
       " '19-862',\n",
       " '19-865',\n",
       " '19-866/1',\n",
       " '19-871',\n",
       " '19-872/1',\n",
       " '19-873/2',\n",
       " '19-874',\n",
       " '19-875/1',\n",
       " '19-875/2',\n",
       " '19-876',\n",
       " '19-883/1',\n",
       " '21-521',\n",
       " '21-522',\n",
       " '21-589',\n",
       " '26-1873',\n",
       " '26-1874',\n",
       " '26-1875',\n",
       " '26-1876']"
      ]
     },
     "execution_count": 2,
     "metadata": {},
     "output_type": "execute_result"
    }
   ],
   "source": [
    "# wczytanie pliku z powtorzonymi działkami do listy\n",
    "powtorzenia = open('Nr działek Kosów okrojone.txt', 'r')\n",
    "czytanie_powtorzenia = powtorzenia.read()\n",
    "lista_powtorzenia = czytanie_powtorzenia.split('\\n')\n",
    "lista_powtorzenia"
   ]
  },
  {
   "cell_type": "code",
   "execution_count": 3,
   "id": "24de205c-d015-46b9-9e10-89cf9fcca4f5",
   "metadata": {},
   "outputs": [],
   "source": [
    "# utworzenie listy z niepowtarzającymi się działkami\n",
    "lista_unikalne = list()"
   ]
  },
  {
   "cell_type": "code",
   "execution_count": 4,
   "id": "e9d5574c-9481-48dd-91b3-bd60dd6c3517",
   "metadata": {},
   "outputs": [],
   "source": [
    "for i in lista_cale:\n",
    "    trigger_same = False\n",
    "    for j in lista_powtorzenia:\n",
    "        if i == j:\n",
    "            trigger_same = True\n",
    "    if trigger_same == False:\n",
    "        lista_unikalne.append(i)            "
   ]
  },
  {
   "cell_type": "code",
   "execution_count": 5,
   "id": "97d21988-359c-4f99-af47-b43543a482d6",
   "metadata": {},
   "outputs": [
    {
     "data": {
      "text/plain": [
       "['19-812',\n",
       " '19-815',\n",
       " '19-816',\n",
       " '19-820',\n",
       " '19-821',\n",
       " '19-825',\n",
       " '19-826',\n",
       " '19-829',\n",
       " '19-830',\n",
       " '19-834',\n",
       " '19-837',\n",
       " '19-838',\n",
       " '19-841',\n",
       " '19-842',\n",
       " '19-846/1',\n",
       " '19-850/1',\n",
       " '19-850/2',\n",
       " '26-1877',\n",
       " '26-1879',\n",
       " '26-1880',\n",
       " '26-1881',\n",
       " '4-65',\n",
       " '19-870',\n",
       " '3-229',\n",
       " '21-335',\n",
       " '3-185/1',\n",
       " '3-219',\n",
       " '19-407/1',\n",
       " '4-2',\n",
       " '4-52',\n",
       " '4-53',\n",
       " '4-112',\n",
       " '3-214/2']"
      ]
     },
     "execution_count": 5,
     "metadata": {},
     "output_type": "execute_result"
    }
   ],
   "source": [
    "lista_unikalne"
   ]
  },
  {
   "cell_type": "code",
   "execution_count": 7,
   "id": "e36a2746-587d-4b45-b96e-4624de335f7b",
   "metadata": {},
   "outputs": [],
   "source": [
    "with open('dzialki_unikalne.txt', 'w') as unik:\n",
    "    unik.write('\\n'.join(lista_unikalne))"
   ]
  }
 ],
 "metadata": {
  "kernelspec": {
   "display_name": "Python 3 (ipykernel)",
   "language": "python",
   "name": "python3"
  },
  "language_info": {
   "codemirror_mode": {
    "name": "ipython",
    "version": 3
   },
   "file_extension": ".py",
   "mimetype": "text/x-python",
   "name": "python",
   "nbconvert_exporter": "python",
   "pygments_lexer": "ipython3",
   "version": "3.9.12"
  }
 },
 "nbformat": 4,
 "nbformat_minor": 5
}
